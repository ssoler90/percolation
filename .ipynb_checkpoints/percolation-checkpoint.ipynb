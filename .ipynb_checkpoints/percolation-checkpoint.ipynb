{
 "cells": [
  {
   "cell_type": "code",
   "execution_count": 75,
   "metadata": {},
   "outputs": [],
   "source": [
    "import numpy as np\n",
    "import seaborn as sb\n",
    "import matplotlib.pyplot as plt\n",
    "from percolation_function import Percolation\n",
    "from sklearn.linear_model import LogisticRegression\n",
    "from sklearn.model_selection import train_test_split"
   ]
  },
  {
   "cell_type": "code",
   "execution_count": 63,
   "metadata": {},
   "outputs": [],
   "source": [
    "size_net = 300\n",
    "partitions = 500\n",
    "probabilities = np.linspace(0,1,partitions)\n",
    "is_percolation = np.array([])"
   ]
  },
  {
   "cell_type": "code",
   "execution_count": 64,
   "metadata": {},
   "outputs": [],
   "source": [
    "for probability in probabilities:\n",
    "    \n",
    "    \n",
    "    percolation = Percolation(size_net,probability)\n",
    "    is_percolation = np.append(is_percolation, percolation.is_percolation()*1)"
   ]
  },
  {
   "cell_type": "code",
   "execution_count": 112,
   "metadata": {},
   "outputs": [
    {
     "data": {
      "image/png": "[encoded data removed]",
      "text/plain": [
       "<Figure size 432x288 with 1 Axes>"
      ]
     },
     "metadata": {
      "needs_background": "light"
     },
     "output_type": "display_data"
    }
   ],
   "source": [
    "plt.plot(probabilities, is_percolation, 'x')\n",
    "plt.show()"
   ]
  },
  {
   "cell_type": "code",
   "execution_count": 121,
   "metadata": {},
   "outputs": [],
   "source": [
    "X_train, X_test, y_train, y_test = train_test_split(X, y, test_size=0.2, random_state=42)"
   ]
  },
  {
   "cell_type": "code",
   "execution_count": 123,
   "metadata": {},
   "outputs": [
    {
     "name": "stderr",
     "output_type": "stream",
     "text": [
      "/home/sergio/anaconda3/lib/python3.7/site-packages/sklearn/linear_model/logistic.py:432: FutureWarning: Default solver will be changed to 'lbfgs' in 0.22. Specify a solver to silence this warning.\n",
      "  FutureWarning)\n"
     ]
    },
    {
     "data": {
      "text/plain": [
       "99.5"
      ]
     },
     "execution_count": 123,
     "metadata": {},
     "output_type": "execute_result"
    }
   ],
   "source": [
    "X_train = X_train.reshape((1,-1))\n",
    "X_train = X_train.T\n",
    "X_test = X_test.reshape((1,-1))\n",
    "X_test = X_test.T\n",
    "logreg = LogisticRegression()\n",
    "logreg.fit(X_train, y_train)\n",
    "y_pred_log = logreg.predict(X_test)\n",
    "acc_log = round(logreg.score(X_train, y_train) * 100, 2)\n",
    "acc_log"
   ]
  },
  {
   "cell_type": "code",
   "execution_count": 136,
   "metadata": {},
   "outputs": [
    {
     "data": {
      "text/plain": [
       "array([-4.45506078])"
      ]
     },
     "execution_count": 136,
     "metadata": {},
     "output_type": "execute_result"
    }
   ],
   "source": [
    "logreg.intercept_"
   ]
  },
  {
   "cell_type": "code",
   "execution_count": 108,
   "metadata": {},
   "outputs": [],
   "source": [
    "probabilities = probabilities.reshape((500))"
   ]
  },
  {
   "cell_type": "code",
   "execution_count": 100,
   "metadata": {},
   "outputs": [
    {
     "data": {
      "text/plain": [
       "array([[0.        , 0.00200401, 0.00400802, 0.00601202, 0.00801603,\n",
       "        0.01002004, 0.01202405, 0.01402806, 0.01603206, 0.01803607,\n",
       "        0.02004008, 0.02204409, 0.0240481 , 0.0260521 , 0.02805611,\n",
       "        0.03006012, 0.03206413, 0.03406814, 0.03607214, 0.03807615,\n",
       "        0.04008016, 0.04208417, 0.04408818, 0.04609218, 0.04809619,\n",
       "        0.0501002 , 0.05210421, 0.05410822, 0.05611222, 0.05811623,\n",
       "        0.06012024, 0.06212425, 0.06412826, 0.06613226, 0.06813627,\n",
       "        0.07014028, 0.07214429, 0.0741483 , 0.0761523 , 0.07815631,\n",
       "        0.08016032, 0.08216433, 0.08416834, 0.08617234, 0.08817635,\n",
       "        0.09018036, 0.09218437, 0.09418838, 0.09619238, 0.09819639,\n",
       "        0.1002004 , 0.10220441, 0.10420842, 0.10621242, 0.10821643,\n",
       "        0.11022044, 0.11222445, 0.11422846, 0.11623246, 0.11823647,\n",
       "        0.12024048, 0.12224449, 0.1242485 , 0.12625251, 0.12825651,\n",
       "        0.13026052, 0.13226453, 0.13426854, 0.13627255, 0.13827655,\n",
       "        0.14028056, 0.14228457, 0.14428858, 0.14629259, 0.14829659,\n",
       "        0.1503006 , 0.15230461, 0.15430862, 0.15631263, 0.15831663,\n",
       "        0.16032064, 0.16232465, 0.16432866, 0.16633267, 0.16833667,\n",
       "        0.17034068, 0.17234469, 0.1743487 , 0.17635271, 0.17835671,\n",
       "        0.18036072, 0.18236473, 0.18436874, 0.18637275, 0.18837675,\n",
       "        0.19038076, 0.19238477, 0.19438878, 0.19639279, 0.19839679,\n",
       "        0.2004008 , 0.20240481, 0.20440882, 0.20641283, 0.20841683,\n",
       "        0.21042084, 0.21242485, 0.21442886, 0.21643287, 0.21843687,\n",
       "        0.22044088, 0.22244489, 0.2244489 , 0.22645291, 0.22845691,\n",
       "        0.23046092, 0.23246493, 0.23446894, 0.23647295, 0.23847695,\n",
       "        0.24048096, 0.24248497, 0.24448898, 0.24649299, 0.24849699,\n",
       "        0.250501  , 0.25250501, 0.25450902, 0.25651303, 0.25851703,\n",
       "        0.26052104, 0.26252505, 0.26452906, 0.26653307, 0.26853707,\n",
       "        0.27054108, 0.27254509, 0.2745491 , 0.27655311, 0.27855711,\n",
       "        0.28056112, 0.28256513, 0.28456914, 0.28657315, 0.28857715,\n",
       "        0.29058116, 0.29258517, 0.29458918, 0.29659319, 0.29859719,\n",
       "        0.3006012 , 0.30260521, 0.30460922, 0.30661323, 0.30861723,\n",
       "        0.31062124, 0.31262525, 0.31462926, 0.31663327, 0.31863727,\n",
       "        0.32064128, 0.32264529, 0.3246493 , 0.32665331, 0.32865731,\n",
       "        0.33066132, 0.33266533, 0.33466934, 0.33667335, 0.33867735,\n",
       "        0.34068136, 0.34268537, 0.34468938, 0.34669339, 0.34869739,\n",
       "        0.3507014 , 0.35270541, 0.35470942, 0.35671343, 0.35871743,\n",
       "        0.36072144, 0.36272545, 0.36472946, 0.36673347, 0.36873747,\n",
       "        0.37074148, 0.37274549, 0.3747495 , 0.37675351, 0.37875752,\n",
       "        0.38076152, 0.38276553, 0.38476954, 0.38677355, 0.38877756,\n",
       "        0.39078156, 0.39278557, 0.39478958, 0.39679359, 0.3987976 ,\n",
       "        0.4008016 , 0.40280561, 0.40480962, 0.40681363, 0.40881764,\n",
       "        0.41082164, 0.41282565, 0.41482966, 0.41683367, 0.41883768,\n",
       "        0.42084168, 0.42284569, 0.4248497 , 0.42685371, 0.42885772,\n",
       "        0.43086172, 0.43286573, 0.43486974, 0.43687375, 0.43887776,\n",
       "        0.44088176, 0.44288577, 0.44488978, 0.44689379, 0.4488978 ,\n",
       "        0.4509018 , 0.45290581, 0.45490982, 0.45691383, 0.45891784,\n",
       "        0.46092184, 0.46292585, 0.46492986, 0.46693387, 0.46893788,\n",
       "        0.47094188, 0.47294589, 0.4749499 , 0.47695391, 0.47895792,\n",
       "        0.48096192, 0.48296593, 0.48496994, 0.48697395, 0.48897796,\n",
       "        0.49098196, 0.49298597, 0.49498998, 0.49699399, 0.498998  ,\n",
       "        0.501002  , 0.50300601, 0.50501002, 0.50701403, 0.50901804,\n",
       "        0.51102204, 0.51302605, 0.51503006, 0.51703407, 0.51903808,\n",
       "        0.52104208, 0.52304609, 0.5250501 , 0.52705411, 0.52905812,\n",
       "        0.53106212, 0.53306613, 0.53507014, 0.53707415, 0.53907816,\n",
       "        0.54108216, 0.54308617, 0.54509018, 0.54709419, 0.5490982 ,\n",
       "        0.5511022 , 0.55310621, 0.55511022, 0.55711423, 0.55911824,\n",
       "        0.56112224, 0.56312625, 0.56513026, 0.56713427, 0.56913828,\n",
       "        0.57114228, 0.57314629, 0.5751503 , 0.57715431, 0.57915832,\n",
       "        0.58116232, 0.58316633, 0.58517034, 0.58717435, 0.58917836,\n",
       "        0.59118236, 0.59318637, 0.59519038, 0.59719439, 0.5991984 ,\n",
       "        0.6012024 , 0.60320641, 0.60521042, 0.60721443, 0.60921844,\n",
       "        0.61122244, 0.61322645, 0.61523046, 0.61723447, 0.61923848,\n",
       "        0.62124248, 0.62324649, 0.6252505 , 0.62725451, 0.62925852,\n",
       "        0.63126253, 0.63326653, 0.63527054, 0.63727455, 0.63927856,\n",
       "        0.64128257, 0.64328657, 0.64529058, 0.64729459, 0.6492986 ,\n",
       "        0.65130261, 0.65330661, 0.65531062, 0.65731463, 0.65931864,\n",
       "        0.66132265, 0.66332665, 0.66533066, 0.66733467, 0.66933868,\n",
       "        0.67134269, 0.67334669, 0.6753507 , 0.67735471, 0.67935872,\n",
       "        0.68136273, 0.68336673, 0.68537074, 0.68737475, 0.68937876,\n",
       "        0.69138277, 0.69338677, 0.69539078, 0.69739479, 0.6993988 ,\n",
       "        0.70140281, 0.70340681, 0.70541082, 0.70741483, 0.70941884,\n",
       "        0.71142285, 0.71342685, 0.71543086, 0.71743487, 0.71943888,\n",
       "        0.72144289, 0.72344689, 0.7254509 , 0.72745491, 0.72945892,\n",
       "        0.73146293, 0.73346693, 0.73547094, 0.73747495, 0.73947896,\n",
       "        0.74148297, 0.74348697, 0.74549098, 0.74749499, 0.749499  ,\n",
       "        0.75150301, 0.75350701, 0.75551102, 0.75751503, 0.75951904,\n",
       "        0.76152305, 0.76352705, 0.76553106, 0.76753507, 0.76953908,\n",
       "        0.77154309, 0.77354709, 0.7755511 , 0.77755511, 0.77955912,\n",
       "        0.78156313, 0.78356713, 0.78557114, 0.78757515, 0.78957916,\n",
       "        0.79158317, 0.79358717, 0.79559118, 0.79759519, 0.7995992 ,\n",
       "        0.80160321, 0.80360721, 0.80561122, 0.80761523, 0.80961924,\n",
       "        0.81162325, 0.81362725, 0.81563126, 0.81763527, 0.81963928,\n",
       "        0.82164329, 0.82364729, 0.8256513 , 0.82765531, 0.82965932,\n",
       "        0.83166333, 0.83366733, 0.83567134, 0.83767535, 0.83967936,\n",
       "        0.84168337, 0.84368737, 0.84569138, 0.84769539, 0.8496994 ,\n",
       "        0.85170341, 0.85370741, 0.85571142, 0.85771543, 0.85971944,\n",
       "        0.86172345, 0.86372745, 0.86573146, 0.86773547, 0.86973948,\n",
       "        0.87174349, 0.87374749, 0.8757515 , 0.87775551, 0.87975952,\n",
       "        0.88176353, 0.88376754, 0.88577154, 0.88777555, 0.88977956,\n",
       "        0.89178357, 0.89378758, 0.89579158, 0.89779559, 0.8997996 ,\n",
       "        0.90180361, 0.90380762, 0.90581162, 0.90781563, 0.90981964,\n",
       "        0.91182365, 0.91382766, 0.91583166, 0.91783567, 0.91983968,\n",
       "        0.92184369, 0.9238477 , 0.9258517 , 0.92785571, 0.92985972,\n",
       "        0.93186373, 0.93386774, 0.93587174, 0.93787575, 0.93987976,\n",
       "        0.94188377, 0.94388778, 0.94589178, 0.94789579, 0.9498998 ,\n",
       "        0.95190381, 0.95390782, 0.95591182, 0.95791583, 0.95991984,\n",
       "        0.96192385, 0.96392786, 0.96593186, 0.96793587, 0.96993988,\n",
       "        0.97194389, 0.9739479 , 0.9759519 , 0.97795591, 0.97995992,\n",
       "        0.98196393, 0.98396794, 0.98597194, 0.98797595, 0.98997996,\n",
       "        0.99198397, 0.99398798, 0.99599198, 0.99799599, 1.        ]])"
      ]
     },
     "execution_count": 100,
     "metadata": {},
     "output_type": "execute_result"
    }
   ],
   "source": [
    "probabilities\n"
   ]
  },
  {
   "cell_type": "code",
   "execution_count": 110,
   "metadata": {},
   "outputs": [],
   "source": [
    "X=probabilities\n",
    "y=is_percolation"
   ]
  },
  {
   "cell_type": "code",
   "execution_count": 120,
   "metadata": {},
   "outputs": [
    {
     "data": {
      "text/plain": [
       "(1, 400)"
      ]
     },
     "execution_count": 120,
     "metadata": {},
     "output_type": "execute_result"
    }
   ],
   "source": [
    "X_train.shape"
   ]
  },
  {
   "cell_type": "code",
   "execution_count": 119,
   "metadata": {},
   "outputs": [
    {
     "data": {
      "text/plain": [
       "(400,)"
      ]
     },
     "execution_count": 119,
     "metadata": {},
     "output_type": "execute_result"
    }
   ],
   "source": [
    "y_train.shape"
   ]
  },
  {
   "cell_type": "code",
   "execution_count": 137,
   "metadata": {},
   "outputs": [
    {
     "name": "stderr",
     "output_type": "stream",
     "text": [
      "/home/sergio/anaconda3/lib/python3.7/site-packages/sklearn/linear_model/logistic.py:432: FutureWarning: Default solver will be changed to 'lbfgs' in 0.22. Specify a solver to silence this warning.\n",
      "  FutureWarning)\n"
     ]
    },
    {
     "data": {
      "text/plain": [
       "LogisticRegression(C=1.0, class_weight=None, dual=False, fit_intercept=True,\n",
       "                   intercept_scaling=1, l1_ratio=None, max_iter=100,\n",
       "                   multi_class='warn', n_jobs=None, penalty='l2',\n",
       "                   random_state=None, solver='warn', tol=0.0001, verbose=0,\n",
       "                   warm_start=False)"
      ]
     },
     "execution_count": 137,
     "metadata": {},
     "output_type": "execute_result"
    }
   ],
   "source": [
    "X = X.reshape((1,-1))\n",
    "X= X.T\n",
    "y = is_percolation\n",
    "logreg = LogisticRegression()\n",
    "logreg.fit(X, y)"
   ]
  },
  {
   "cell_type": "code",
   "execution_count": 138,
   "metadata": {},
   "outputs": [],
   "source": [
    "y_pred_log = logreg.predict(X)"
   ]
  },
  {
   "cell_type": "code",
   "execution_count": 144,
   "metadata": {},
   "outputs": [
    {
     "data": {
      "text/plain": [
       "array([[-0.58573858]])"
      ]
     },
     "execution_count": 144,
     "metadata": {},
     "output_type": "execute_result"
    }
   ],
   "source": [
    "logreg.intercept_/logreg.coef_"
   ]
  },
  {
   "cell_type": "code",
   "execution_count": 143,
   "metadata": {},
   "outputs": [
    {
     "data": {
      "text/plain": [
       "array([[8.12820361]])"
      ]
     },
     "execution_count": 143,
     "metadata": {},
     "output_type": "execute_result"
    }
   ],
   "source": [
    "logreg.coef_"
   ]
  },
  {
   "cell_type": "code",
   "execution_count": null,
   "metadata": {},
   "outputs": [],
   "source": []
  }
 ],
 "metadata": {
  "kernelspec": {
   "display_name": "Python 3",
   "language": "python",
   "name": "python3"
  },
  "language_info": {
   "codemirror_mode": {
    "name": "ipython",
    "version": 3
   },
   "file_extension": ".py",
   "mimetype": "text/x-python",
   "name": "python",
   "nbconvert_exporter": "python",
   "pygments_lexer": "ipython3",
   "version": "3.7.3"
  }
 },
 "nbformat": 4,
 "nbformat_minor": 2
}
